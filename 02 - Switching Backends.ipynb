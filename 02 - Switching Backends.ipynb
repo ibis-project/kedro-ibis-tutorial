{
  "cells": [
    {
      "cell_type": "markdown",
      "metadata": {},
      "source": [
        "# Switching Backends\n",
        "\n",
        "One use case for Ibis's portable API is the ability to develop a query locally (using DuckDB, for example) on a subset of the data, then rerun that same query on the full dataset (using BigQuery, for example) without rewriting your code.\n",
        "\n",
        "In this notebook, we'll run some of the queries we developed in the previous notebook, using the Postgres database we populated in the Welcome notebook."
      ]
    },
    {
      "cell_type": "code",
      "execution_count": null,
      "metadata": {},
      "outputs": [],
      "source": [
        "import ibis\n",
        "\n",
        "ibis.options.interactive = True"
      ]
    },
    {
      "cell_type": "markdown",
      "metadata": {},
      "source": [
        "Create a connection, just as we did with DuckDB..."
      ]
    },
    {
      "cell_type": "code",
      "execution_count": null,
      "metadata": {},
      "outputs": [],
      "source": [
        "con = ibis.postgres.connect()"
      ]
    },
    {
      "cell_type": "markdown",
      "metadata": {},
      "source": [
        "...grab a reference to the flights table..."
      ]
    },
    {
      "cell_type": "code",
      "execution_count": null,
      "metadata": {},
      "outputs": [],
      "source": [
        "flights = con.table(\"flights\")"
      ]
    },
    {
      "cell_type": "markdown",
      "metadata": {},
      "source": [
        "...and copy-paste some queries!"
      ]
    },
    {
      "cell_type": "code",
      "execution_count": null,
      "metadata": {},
      "outputs": [],
      "source": [
        "flights.order_by(ibis.desc(\"distance\")).select(\"carrier\", \"origin\", \"dest\", \"distance\")"
      ]
    },
    {
      "cell_type": "code",
      "execution_count": null,
      "metadata": {},
      "outputs": [],
      "source": [
        "flights.group_by([\"carrier\", \"origin\"]).agg(\n",
        "    [flights.distance.mean().cast(\"float32\"), flights.air_time.min()]\n",
        ")"
      ]
    },
    {
      "cell_type": "markdown",
      "metadata": {},
      "source": [
        "Later on in the tutorial, we'll see more practical examples of running the same Ibis code against multiple backends."
      ]
    }
  ],
  "metadata": {
    "kernelspec": {
      "display_name": "Python 3 (ipykernel)",
      "language": "python",
      "name": "python3"
    },
    "language_info": {
      "codemirror_mode": {
        "name": "ipython",
        "version": 3
      },
      "file_extension": ".py",
      "mimetype": "text/x-python",
      "name": "python",
      "nbconvert_exporter": "python",
      "pygments_lexer": "ipython3",
      "version": "3.11.9"
    }
  },
  "nbformat": 4,
  "nbformat_minor": 4
}
