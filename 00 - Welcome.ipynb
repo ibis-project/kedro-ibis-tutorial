{
  "cells": [
    {
      "cell_type": "markdown",
      "metadata": {},
      "source": [
        "# Welcome to the Kedro-Ibis tutorial!\n",
        "\n",
        "The side bar on the left 👈 shows the tutorial files in the Explorer.\n",
        "\n",
        "For convenience, they're also linked below: 👇\n",
        "\n",
        "1. [Getting Started](./01%20-%20Getting%20Started%20with%20Ibis.ipynb)\n",
        "1. [Ibis and the Python Ecosystem](./02%20-%20Ibis%20and%20the%20Python%20Ecosystem.ipynb)\n",
        "1. [Switching Backends](./03%20-%20Switching%20Backends.ipynb)\n",
        "1. [Playing with PyPI](./04%20-%20Playing%20with%20PyPI.ipynb)\n",
        "\n",
        "Let's start by downloading the [nycflights13 data](https://github.com/hadley/nycflights13); we'll use this dataset throughout the tutorial."
      ]
    },
    {
      "cell_type": "code",
      "execution_count": null,
      "metadata": {},
      "outputs": [],
      "source": [
        "import ibis\n",
        "\n",
        "con = ibis.connect(\"duckdb://nycflights13.ddb\")\n",
        "con.create_table(\n",
        "    \"flights\", ibis.examples.nycflights13_flights.fetch().to_pyarrow(), overwrite=True\n",
        ")\n",
        "con.create_table(\n",
        "    \"weather\", ibis.examples.nycflights13_weather.fetch().to_pyarrow(), overwrite=True\n",
        ")\n",
        "con.disconnect()"
      ]
    },
    {
      "cell_type": "markdown",
      "metadata": {},
      "source": [
        "Next, we'll load the data into a local PostgreSQL database using DuckDB—[yes, you can do that](https://duckdb.org/docs/extensions/postgres.html#writing-data-to-postgres)!"
      ]
    },
    {
      "cell_type": "code",
      "execution_count": null,
      "metadata": {},
      "outputs": [],
      "source": [
        "!psql < sql/create_nycflights13.sql\n",
        "!duckdb nycflights13.ddb < sql/load_nycflights13.sql"
      ]
    },
    {
      "cell_type": "markdown",
      "metadata": {},
      "source": [
        "We can confirm that our PostgreSQL database contains the tables we just populated."
      ]
    },
    {
      "cell_type": "code",
      "execution_count": null,
      "metadata": {},
      "outputs": [],
      "source": [
        "!psql < sql/verify_nycflights13.sql"
      ]
    }
  ],
  "metadata": {
    "kernelspec": {
      "display_name": "Python 3 (ipykernel)",
      "language": "python",
      "name": "python3"
    },
    "language_info": {
      "codemirror_mode": {
        "name": "ipython",
        "version": 3
      },
      "file_extension": ".py",
      "mimetype": "text/x-python",
      "name": "python",
      "nbconvert_exporter": "python",
      "pygments_lexer": "ipython3",
      "version": "3.11.9"
    }
  },
  "nbformat": 4,
  "nbformat_minor": 4
}
